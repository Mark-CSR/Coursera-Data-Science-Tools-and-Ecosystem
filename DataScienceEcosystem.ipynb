{
 "cells": [
  {
   "cell_type": "markdown",
   "id": "467d26cd-1cf9-448a-9682-70f6cc1576da",
   "metadata": {},
   "source": [
    "# Data Science Tools and Ecosystem"
   ]
  },
  {
   "cell_type": "markdown",
   "id": "6c7559c8-75df-4dae-9fad-7f49f44058c2",
   "metadata": {},
   "source": [
    "In this notebook, Data Science Tools and Ecosystem are summarized."
   ]
  },
  {
   "cell_type": "markdown",
   "id": "220bc36e-ad9e-498b-bc87-bc046b59105d",
   "metadata": {},
   "source": [
    "**Objectives:**\n",
    "\n",
    "- List popular languages for Data Science\n",
    "- List commonly used libraries by Data Scientists\n",
    "- List common open source development environments\n"
   ]
  },
  {
   "cell_type": "markdown",
   "id": "62f34100-587c-4f3d-a881-a2fb9791c51d",
   "metadata": {},
   "source": [
    "Some of the popular languages that Data Scientists use are:\n",
    "1. Python\n",
    "2. SQL\n",
    "3. R"
   ]
  },
  {
   "cell_type": "markdown",
   "id": "5aa6004b-8af8-48c9-8841-2172c4a2d5e8",
   "metadata": {},
   "source": [
    "Some of the commonly used libraries used by Data Scientists include:\n",
    "    \n",
    "    1. dplyr   Data Manipulation\n",
    "    2. stringr String Manipulation\n",
    "    3. ggplot  Data Visualization\n",
    "    4. caret   Machine Learning"
   ]
  },
  {
   "cell_type": "markdown",
   "id": "74dc43b1-7232-44aa-8507-faa2a46c6e84",
   "metadata": {},
   "source": [
    "|Data Science Tools|\n",
    "|----|\n",
    "|Jupyter Labs|\n",
    "|Jupyter Notebooks| \n",
    "|Apache Zeppelin|\n",
    "|Spyder|"
   ]
  },
  {
   "cell_type": "markdown",
   "id": "40acbe6d-2443-4bc9-82cc-04903b2e7de8",
   "metadata": {},
   "source": [
    "### Below are a few examples of evaluating arithmetic expressions in Python.\n",
    "\n",
    "a = a + 10\n",
    "\n",
    "b = 10 - 5\n",
    "\n",
    "c = 5 / 1\n",
    "\n",
    "d = 10**2\n",
    "\n"
   ]
  },
  {
   "cell_type": "code",
   "execution_count": 17,
   "id": "b7c54f9c-ae78-49c9-81f2-49ce0b61cc48",
   "metadata": {},
   "outputs": [
    {
     "data": {
      "text/plain": [
       "17"
      ]
     },
     "execution_count": 17,
     "metadata": {},
     "output_type": "execute_result"
    }
   ],
   "source": [
    "#This is a simple arithmetic expression to multiply then add ingegers\n",
    "\n",
    "(3*4)+5"
   ]
  },
  {
   "cell_type": "code",
   "execution_count": 18,
   "id": "4f36e294-7f14-4549-9fb5-c842ea8f24ec",
   "metadata": {},
   "outputs": [
    {
     "data": {
      "text/plain": [
       "3.3333333333333335"
      ]
     },
     "execution_count": 18,
     "metadata": {},
     "output_type": "execute_result"
    }
   ],
   "source": [
    "#This will convert 200 minutes to hours by dividing by 60\n",
    "\n",
    "200/60"
   ]
  },
  {
   "cell_type": "markdown",
   "id": "00b2f305-30a8-411f-bf1d-7bd565b135de",
   "metadata": {},
   "source": [
    "## Author\n",
    "\n",
    "Mark L"
   ]
  }
 ],
 "metadata": {
  "kernelspec": {
   "display_name": "Python 3 (ipykernel)",
   "language": "python",
   "name": "python3"
  },
  "language_info": {
   "codemirror_mode": {
    "name": "ipython",
    "version": 3
   },
   "file_extension": ".py",
   "mimetype": "text/x-python",
   "name": "python",
   "nbconvert_exporter": "python",
   "pygments_lexer": "ipython3",
   "version": "3.9.16"
  }
 },
 "nbformat": 4,
 "nbformat_minor": 5
}
